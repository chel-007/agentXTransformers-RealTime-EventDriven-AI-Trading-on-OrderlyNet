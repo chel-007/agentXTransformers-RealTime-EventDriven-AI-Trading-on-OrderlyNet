{
  "nbformat": 4,
  "nbformat_minor": 0,
  "metadata": {
    "colab": {
      "provenance": []
    },
    "kernelspec": {
      "name": "python3",
      "display_name": "Python 3"
    },
    "language_info": {
      "name": "python"
    }
  },
  "cells": [
    {
      "cell_type": "code",
      "source": [
        "!pip install ta"
      ],
      "metadata": {
        "colab": {
          "base_uri": "https://localhost:8080/"
        },
        "collapsed": true,
        "id": "59FBYtNL6kFg",
        "outputId": "2523b63d-232f-47b0-8f36-9ef8a84665ed"
      },
      "execution_count": 1,
      "outputs": [
        {
          "output_type": "stream",
          "name": "stdout",
          "text": [
            "Collecting ta\n",
            "  Downloading ta-0.11.0.tar.gz (25 kB)\n",
            "  Preparing metadata (setup.py) ... \u001b[?25l\u001b[?25hdone\n",
            "Requirement already satisfied: numpy in /usr/local/lib/python3.10/dist-packages (from ta) (1.26.4)\n",
            "Requirement already satisfied: pandas in /usr/local/lib/python3.10/dist-packages (from ta) (2.2.2)\n",
            "Requirement already satisfied: python-dateutil>=2.8.2 in /usr/local/lib/python3.10/dist-packages (from pandas->ta) (2.8.2)\n",
            "Requirement already satisfied: pytz>=2020.1 in /usr/local/lib/python3.10/dist-packages (from pandas->ta) (2024.2)\n",
            "Requirement already satisfied: tzdata>=2022.7 in /usr/local/lib/python3.10/dist-packages (from pandas->ta) (2024.2)\n",
            "Requirement already satisfied: six>=1.5 in /usr/local/lib/python3.10/dist-packages (from python-dateutil>=2.8.2->pandas->ta) (1.16.0)\n",
            "Building wheels for collected packages: ta\n",
            "  Building wheel for ta (setup.py) ... \u001b[?25l\u001b[?25hdone\n",
            "  Created wheel for ta: filename=ta-0.11.0-py3-none-any.whl size=29412 sha256=7778cf38c6e003a99c5442532ff0b8b1a42eafdd3b505d8b06e0b1a134f44055\n",
            "  Stored in directory: /root/.cache/pip/wheels/5f/67/4f/8a9f252836e053e532c6587a3230bc72a4deb16b03a829610b\n",
            "Successfully built ta\n",
            "Installing collected packages: ta\n",
            "Successfully installed ta-0.11.0\n"
          ]
        }
      ]
    },
    {
      "cell_type": "code",
      "execution_count": 19,
      "metadata": {
        "id": "SewTRSrT6NOb"
      },
      "outputs": [],
      "source": [
        "import pandas as pd\n",
        "import numpy as np\n",
        "import joblib\n",
        "import ta\n",
        "from sklearn.preprocessing import MinMaxScaler\n",
        "from sklearn.metrics import mean_squared_error\n",
        "from tensorflow.keras import backend as K\n",
        "from keras.models import load_model\n",
        "from keras.losses import MeanSquaredError as mse\n",
        "import matplotlib.pyplot as plt\n",
        "%matplotlib inline\n",
        "import tensorflow as tf\n",
        "from joblib import dump, load\n",
        "import json"
      ]
    },
    {
      "cell_type": "markdown",
      "source": [
        "### **: Import Orderly Kline data for preprocessing**"
      ],
      "metadata": {
        "id": "CTBqnFrSC86_"
      }
    },
    {
      "cell_type": "code",
      "source": [
        "file_name = 'kline_data.json'\n",
        "with open(file_name) as f:\n",
        "    data = json.load(f)\n",
        "rows = data['data']['rows']\n",
        "df = pd.DataFrame(rows)\n",
        "\n",
        "print(df.head(25))"
      ],
      "metadata": {
        "colab": {
          "base_uri": "https://localhost:8080/"
        },
        "collapsed": true,
        "id": "mn05poti6rht",
        "outputId": "809d0bc4-b7ef-4c2b-b239-73f16613e9ed"
      },
      "execution_count": 3,
      "outputs": [
        {
          "output_type": "stream",
          "name": "stdout",
          "text": [
            "       open    close      low     high   volume        amount         symbol  \\\n",
            "0   2413.46  2413.89  2413.46  2414.12   5.4035  13043.499641  PERP_ETH_USDC   \n",
            "1   2413.95  2413.46  2413.46  2415.16   4.1856  10106.746960  PERP_ETH_USDC   \n",
            "2   2413.64  2414.05  2413.39  2414.20   1.8256   4406.570048  PERP_ETH_USDC   \n",
            "3   2412.88  2413.64  2412.88  2414.16   7.5311  18177.868972  PERP_ETH_USDC   \n",
            "4   2411.06  2413.22  2410.47  2413.22   6.6190  15962.923982  PERP_ETH_USDC   \n",
            "5   2412.36  2411.06  2410.80  2412.36  20.6984  49916.219412  PERP_ETH_USDC   \n",
            "6   2412.38  2412.63  2412.38  2413.45   7.1421  17233.215061  PERP_ETH_USDC   \n",
            "7   2414.17  2412.38  2412.06  2414.17   5.3857  12995.573014  PERP_ETH_USDC   \n",
            "8   2413.00  2414.17  2411.54  2414.34   7.5711  18264.624609  PERP_ETH_USDC   \n",
            "9   2415.02  2413.00  2412.73  2415.02   8.5842  20713.755743  PERP_ETH_USDC   \n",
            "10  2416.57  2415.02  2415.02  2416.57   0.0000      0.000000  PERP_ETH_USDC   \n",
            "11  2417.88  2416.57  2415.28  2418.47   7.8221  18905.218085  PERP_ETH_USDC   \n",
            "12  2417.22  2417.81  2414.48  2417.81  18.9183  45706.780264  PERP_ETH_USDC   \n",
            "13  2416.95  2417.32  2416.60  2418.11   0.8000   1934.032000  PERP_ETH_USDC   \n",
            "14  2415.29  2416.60  2414.99  2417.20   9.0700  21909.406386  PERP_ETH_USDC   \n",
            "15  2415.34  2415.37  2413.95  2415.40   4.2844  10346.246689  PERP_ETH_USDC   \n",
            "16  2416.33  2415.34  2415.34  2416.37   2.7500   6643.642500  PERP_ETH_USDC   \n",
            "17  2413.26  2416.65  2413.26  2418.57  12.3685  29887.009104  PERP_ETH_USDC   \n",
            "18  2411.98  2413.26  2411.57  2413.40  18.1102  43695.977194  PERP_ETH_USDC   \n",
            "19  2413.44  2411.32  2411.32  2413.45   2.7672   6675.308668  PERP_ETH_USDC   \n",
            "20  2412.34  2413.45  2410.88  2415.60  32.9395  79487.600362  PERP_ETH_USDC   \n",
            "21  2408.78  2412.34  2408.31  2413.57   7.1025  17120.883971  PERP_ETH_USDC   \n",
            "22  2409.25  2408.78  2407.86  2410.16   5.1829  12487.431100  PERP_ETH_USDC   \n",
            "23  2408.56  2410.10  2407.07  2410.44  20.6468  49726.695333  PERP_ETH_USDC   \n",
            "24  2402.35  2407.00  2402.12  2407.00   8.8599  21320.401039  PERP_ETH_USDC   \n",
            "\n",
            "   type  start_timestamp  end_timestamp  \n",
            "0    5m    1728172800000  1728173100000  \n",
            "1    5m    1728172500000  1728172800000  \n",
            "2    5m    1728172200000  1728172500000  \n",
            "3    5m    1728171900000  1728172200000  \n",
            "4    5m    1728171600000  1728171900000  \n",
            "5    5m    1728171300000  1728171600000  \n",
            "6    5m    1728171000000  1728171300000  \n",
            "7    5m    1728170700000  1728171000000  \n",
            "8    5m    1728170400000  1728170700000  \n",
            "9    5m    1728170100000  1728170400000  \n",
            "10   5m    1728169800000  1728170100000  \n",
            "11   5m    1728169500000  1728169800000  \n",
            "12   5m    1728169200000  1728169500000  \n",
            "13   5m    1728168900000  1728169200000  \n",
            "14   5m    1728168600000  1728168900000  \n",
            "15   5m    1728168300000  1728168600000  \n",
            "16   5m    1728168000000  1728168300000  \n",
            "17   5m    1728167700000  1728168000000  \n",
            "18   5m    1728167400000  1728167700000  \n",
            "19   5m    1728167100000  1728167400000  \n",
            "20   5m    1728166800000  1728167100000  \n",
            "21   5m    1728166500000  1728166800000  \n",
            "22   5m    1728166200000  1728166500000  \n",
            "23   5m    1728165900000  1728166200000  \n",
            "24   5m    1728165600000  1728165900000  \n"
          ]
        }
      ]
    },
    {
      "cell_type": "code",
      "source": [
        "print(len(df))"
      ],
      "metadata": {
        "colab": {
          "base_uri": "https://localhost:8080/"
        },
        "collapsed": true,
        "id": "H4Whdacx7enO",
        "outputId": "73bfce7f-90fa-46c5-d9d1-87de77b89c92"
      },
      "execution_count": 4,
      "outputs": [
        {
          "output_type": "stream",
          "name": "stdout",
          "text": [
            "500\n"
          ]
        }
      ]
    },
    {
      "cell_type": "code",
      "source": [
        "columns_to_drop = ['start_timestamp', 'amount', 'symbol', 'type', 'volume']\n",
        "# Drop the specified columns from Df\n",
        "data = df.drop(columns=columns_to_drop, errors='ignore')"
      ],
      "metadata": {
        "id": "i9yFyqaf8a5N"
      },
      "execution_count": 5,
      "outputs": []
    },
    {
      "cell_type": "code",
      "source": [
        "zeros = (data == 0).sum()\n",
        "print('zeros', zeros)\n",
        "nans = data.isna().sum()\n",
        "print('nans', nans)"
      ],
      "metadata": {
        "colab": {
          "base_uri": "https://localhost:8080/"
        },
        "collapsed": true,
        "id": "0oapJvv9-CRU",
        "outputId": "abe02c44-6230-4729-852a-49bfb348e242"
      },
      "execution_count": 6,
      "outputs": [
        {
          "output_type": "stream",
          "name": "stdout",
          "text": [
            "zeros open             0\n",
            "close            0\n",
            "low              0\n",
            "high             0\n",
            "end_timestamp    0\n",
            "dtype: int64\n",
            "nans open             0\n",
            "close            0\n",
            "low              0\n",
            "high             0\n",
            "end_timestamp    0\n",
            "dtype: int64\n"
          ]
        }
      ]
    },
    {
      "cell_type": "code",
      "source": [
        "data = data.sort_values('end_timestamp')\n",
        "data.fillna(method='ffill', inplace=True)"
      ],
      "metadata": {
        "colab": {
          "base_uri": "https://localhost:8080/"
        },
        "id": "8SQGjU038ixQ",
        "outputId": "72e77975-47ee-4adb-9bd5-02b76459e3ae"
      },
      "execution_count": 7,
      "outputs": [
        {
          "output_type": "stream",
          "name": "stderr",
          "text": [
            "<ipython-input-7-cdd12b3309eb>:2: FutureWarning: DataFrame.fillna with 'method' is deprecated and will raise in a future version. Use obj.ffill() or obj.bfill() instead.\n",
            "  data.fillna(method='ffill', inplace=True)\n"
          ]
        }
      ]
    },
    {
      "cell_type": "code",
      "source": [
        "data.reset_index(drop=True, inplace=True)"
      ],
      "metadata": {
        "id": "AqBemo9U8q5e"
      },
      "execution_count": 8,
      "outputs": []
    },
    {
      "cell_type": "code",
      "source": [
        "data['SMA_10'] = ta.trend.sma_indicator(data['close'], window=10)\n",
        "data['EMA_10'] = ta.trend.ema_indicator(data['close'], window=10)\n",
        "data['RSI'] = ta.momentum.rsi(data['close'], window=14)\n",
        "data['MACD'] = ta.trend.macd(data['close'])\n",
        "data['Bollinger_High'] = ta.volatility.BollingerBands(data['close'], window=20, window_dev=2).bollinger_hband()\n",
        "data['Bollinger_Low'] = ta.volatility.BollingerBands(data['close'], window=20, window_dev=2).bollinger_lband()"
      ],
      "metadata": {
        "id": "EF-5Jmk58s7V"
      },
      "execution_count": 9,
      "outputs": []
    },
    {
      "cell_type": "code",
      "source": [
        "def create_features(data):\n",
        "    data['RSI_lag1'] = data['RSI'].shift(1)\n",
        "    data['RSI_lag2'] = data['RSI'].shift(2)\n",
        "    data['RSI_diff'] = data['RSI'].diff()\n",
        "\n",
        "    return data\n",
        "data = create_features(data)"
      ],
      "metadata": {
        "id": "yI7PGa6Q8wQZ"
      },
      "execution_count": 10,
      "outputs": []
    },
    {
      "cell_type": "code",
      "source": [
        "# align to training feature order\n",
        "training_feature_order = [\n",
        "        'open',\n",
        "        'high',\n",
        "        'low',\n",
        "        'close',\n",
        "        'SMA_10',\n",
        "        'EMA_10',\n",
        "        'RSI',\n",
        "        'MACD',\n",
        "        'Bollinger_High',\n",
        "        'Bollinger_Low',\n",
        "        'RSI_lag1',\n",
        "        'RSI_lag2',\n",
        "        'RSI_diff'\n",
        "]\n",
        "data = data[training_feature_order]\n",
        "print(data)"
      ],
      "metadata": {
        "colab": {
          "base_uri": "https://localhost:8080/"
        },
        "id": "Wi-bTNDm-5Kc",
        "outputId": "9a614dcf-74dc-42d1-e7a1-97d7d2f80f83",
        "collapsed": true
      },
      "execution_count": 11,
      "outputs": [
        {
          "output_type": "stream",
          "name": "stdout",
          "text": [
            "        open     high      low    close    SMA_10       EMA_10        RSI  \\\n",
            "0    2383.87  2386.24  2380.62  2380.73       NaN          NaN        NaN   \n",
            "1    2381.00  2384.67  2380.83  2382.73       NaN          NaN        NaN   \n",
            "2    2382.25  2382.87  2379.67  2380.10       NaN          NaN        NaN   \n",
            "3    2379.99  2380.11  2377.96  2378.46       NaN          NaN        NaN   \n",
            "4    2378.59  2379.51  2376.11  2379.48       NaN          NaN        NaN   \n",
            "..       ...      ...      ...      ...       ...          ...        ...   \n",
            "495  2411.06  2413.22  2410.47  2413.22  2414.318  2413.310357  55.928442   \n",
            "496  2412.88  2414.16  2412.88  2413.64  2413.950  2413.370292  56.805747   \n",
            "497  2413.64  2414.20  2413.39  2414.05  2413.574  2413.493876  57.691153   \n",
            "498  2413.95  2415.16  2413.46  2413.46  2413.263  2413.487716  55.914931   \n",
            "499  2413.46  2414.12  2413.46  2413.89  2413.150  2413.560859  56.955116   \n",
            "\n",
            "         MACD  Bollinger_High  Bollinger_Low   RSI_lag1   RSI_lag2  RSI_diff  \n",
            "0         NaN             NaN            NaN        NaN        NaN       NaN  \n",
            "1         NaN             NaN            NaN        NaN        NaN       NaN  \n",
            "2         NaN             NaN            NaN        NaN        NaN       NaN  \n",
            "3         NaN             NaN            NaN        NaN        NaN       NaN  \n",
            "4         NaN             NaN            NaN        NaN        NaN       NaN  \n",
            "..        ...             ...            ...        ...        ...       ...  \n",
            "495  2.282204     2418.677810    2408.961190  51.194618  55.196124  4.733824  \n",
            "496  2.145573     2418.548134    2409.444866  55.928442  51.194618  0.877305  \n",
            "497  2.046782     2418.132704    2410.387296  56.805747  55.928442  0.885406  \n",
            "498  1.898991     2418.107572    2410.524428  57.691153  56.805747 -1.776222  \n",
            "499  1.795862     2418.114292    2410.561708  55.914931  57.691153  1.040185  \n",
            "\n",
            "[500 rows x 13 columns]\n"
          ]
        }
      ]
    },
    {
      "cell_type": "code",
      "source": [
        "data.reset_index(drop=True, inplace=True)"
      ],
      "metadata": {
        "id": "bKldNy0w_SMq"
      },
      "execution_count": 12,
      "outputs": []
    },
    {
      "cell_type": "code",
      "source": [
        "# import the scaler used during training for scalig\n",
        "scaler = load('scaler-mse.joblib')"
      ],
      "metadata": {
        "id": "wlLgukRN_gab"
      },
      "execution_count": 13,
      "outputs": []
    },
    {
      "cell_type": "code",
      "source": [
        "time_steps = 5\n",
        "numeric_columns = data.select_dtypes(include=[np.number]).columns.tolist()\n",
        "data_to_scale = data[numeric_columns]\n",
        "\n",
        "data_to_scale = data_to_scale.dropna()\n",
        "scaled_data = scaler.transform(data_to_scale)\n",
        "\n",
        "def create_sequences(data, time_steps=5):\n",
        "    sequences = []\n",
        "    for i in range(len(data) - time_steps):\n",
        "        seq = data[i:i + time_steps]\n",
        "        sequences.append(seq)\n",
        "    return np.array(sequences)\n",
        "\n",
        "sequences = create_sequences(scaled_data, time_steps)"
      ],
      "metadata": {
        "id": "-UIwT4sG9oco"
      },
      "execution_count": 14,
      "outputs": []
    },
    {
      "cell_type": "code",
      "source": [
        "number_of_features = len(numeric_columns)"
      ],
      "metadata": {
        "id": "Iyno5AsZCtDC"
      },
      "execution_count": 22,
      "outputs": []
    },
    {
      "cell_type": "code",
      "source": [
        "def directional_accuracy(y_true, y_pred):\n",
        "    y_true = tf.convert_to_tensor(y_true)\n",
        "    y_pred = tf.convert_to_tensor(y_pred)\n",
        "    mean_prediction = y_pred[:, 0]\n",
        "    actual_change = y_true[1:] - y_true[:-1]\n",
        "    predicted_change = mean_prediction[1:] - mean_prediction[:-1]\n",
        "\n",
        "    correct_direction = tf.equal(tf.sign(actual_change), tf.sign(predicted_change))\n",
        "    return tf.reduce_mean(tf.cast(correct_direction, tf.float32))"
      ],
      "metadata": {
        "id": "n60hFi6d_XiH"
      },
      "execution_count": 15,
      "outputs": []
    },
    {
      "cell_type": "code",
      "source": [
        "target_values = scaled_data[time_steps:, 3]\n",
        "\n",
        "lstm_model = load_model('lstm-mse-h5.h5')\n",
        "\n",
        "lstm_model.compile(optimizer='adam', loss=mse, metrics=[directional_accuracy])\n",
        "\n",
        "predictions = lstm_model.predict(sequences)\n",
        "\n",
        "#print(predictions)"
      ],
      "metadata": {
        "colab": {
          "base_uri": "https://localhost:8080/"
        },
        "id": "LbHWZrwc-DEu",
        "outputId": "b582d100-6c4f-4b78-fa74-f4fb423cefcc"
      },
      "execution_count": 21,
      "outputs": [
        {
          "output_type": "stream",
          "name": "stderr",
          "text": [
            "WARNING:absl:Compiled the loaded model, but the compiled metrics have yet to be built. `model.compile_metrics` will be empty until you train or evaluate the model.\n"
          ]
        },
        {
          "output_type": "stream",
          "name": "stdout",
          "text": [
            "\u001b[1m15/15\u001b[0m \u001b[32m━━━━━━━━━━━━━━━━━━━━\u001b[0m\u001b[37m\u001b[0m \u001b[1m1s\u001b[0m 57ms/step\n"
          ]
        }
      ]
    },
    {
      "cell_type": "code",
      "source": [
        "predictions_mean = predictions[:, 0]\n",
        "predictions_full = np.zeros((predictions_mean.shape[0], number_of_features))\n",
        "\n",
        "predictions_full[:, 3] = predictions_mean.flatten()\n",
        "predictions_full[:, :3] = 0\n",
        "predictions_full[:, 4:] = 0\n",
        "\n",
        "predictions_inverse = scaler.inverse_transform(predictions_full)\n",
        "\n",
        "y_test_full = np.zeros((target_values.shape[0], number_of_features))\n",
        "y_test_full[:, 3] = target_values\n",
        "y_test_inverse = scaler.inverse_transform(y_test_full)\n",
        "\n",
        "mse = mean_squared_error(y_test_inverse[:, 3], predictions_inverse[:, 3])\n",
        "print(f\"Mean Squared Error: {mse}\")\n",
        "plt.figure(figsize=(14, 5))\n",
        "plt.plot(y_test_inverse[:, 3], label='Actual Values', color='blue')\n",
        "plt.plot(predictions_inverse[:, 3], label='Predicted Values', color='orange')\n",
        "plt.title('LSTM Predictions vs Actual Values')\n",
        "plt.xlabel('Time Steps')\n",
        "plt.ylabel('Close Price')\n",
        "plt.legend()\n",
        "plt.show()"
      ],
      "metadata": {
        "id": "ukaE9YY3CzA9",
        "colab": {
          "base_uri": "https://localhost:8080/",
          "height": 482
        },
        "outputId": "5b1a4452-077e-4197-baf8-a1ca28c68c86"
      },
      "execution_count": 23,
      "outputs": [
        {
          "output_type": "stream",
          "name": "stdout",
          "text": [
            "Mean Squared Error: 7.997301148939115\n"
          ]
        },
        {
          "output_type": "display_data",
          "data": {
            "text/plain": [
              "<Figure size 1400x500 with 1 Axes>"
            ],
            "image/png": "[encoded data removed]"
          },
          "metadata": {}
        }
      ]
    },
    {
      "cell_type": "markdown",
      "source": [
        "### **: Calculate Performance Metrics to evaluate the model**"
      ],
      "metadata": {
        "id": "EpECNl_3AaZr"
      }
    },
    {
      "cell_type": "code",
      "source": [
        "rmse = np.sqrt(mean_squared_error(y_test_inverse[:, 3], predictions_inverse[:, 3]))\n",
        "print(f\"Root Mean Squared Error: {rmse}\")"
      ],
      "metadata": {
        "colab": {
          "base_uri": "https://localhost:8080/"
        },
        "id": "FLAqa5aqAY8u",
        "outputId": "917e92e5-e556-4d8e-b49c-10db52577074"
      },
      "execution_count": 24,
      "outputs": [
        {
          "output_type": "stream",
          "name": "stdout",
          "text": [
            "Root Mean Squared Error: 2.827949990530086\n"
          ]
        }
      ]
    },
    {
      "cell_type": "code",
      "source": [
        "from sklearn.metrics import mean_absolute_error\n",
        "mae = mean_absolute_error(y_test_inverse[:, 3], predictions_inverse[:, 3])\n",
        "print(f\"Mean Absolute Error: {mae}\")"
      ],
      "metadata": {
        "colab": {
          "base_uri": "https://localhost:8080/"
        },
        "id": "hs3Mi-TxAeok",
        "outputId": "0d8d173d-a4c8-4782-96d7-a711ea90bdbe"
      },
      "execution_count": 25,
      "outputs": [
        {
          "output_type": "stream",
          "name": "stdout",
          "text": [
            "Mean Absolute Error: 2.012090502789686\n"
          ]
        }
      ]
    },
    {
      "cell_type": "code",
      "source": [
        "from sklearn.metrics import r2_score\n",
        "r2 = r2_score(y_test_inverse[:, 3], predictions_inverse[:, 3])\n",
        "print(f\"R² Score: {r2}\")"
      ],
      "metadata": {
        "colab": {
          "base_uri": "https://localhost:8080/"
        },
        "id": "saeMIJkwAgql",
        "outputId": "36c3db18-a512-40f4-92f5-44770eeccf0b"
      },
      "execution_count": 26,
      "outputs": [
        {
          "output_type": "stream",
          "name": "stdout",
          "text": [
            "R² Score: 0.9699595226483264\n"
          ]
        }
      ]
    },
    {
      "cell_type": "code",
      "source": [
        "mape = np.mean(np.abs((y_test_inverse[:, 3] - predictions_inverse[:, 3]) / y_test_inverse[:, 3])) * 100\n",
        "print(f\"Mean Absolute Percentage Error: {mape}%\")"
      ],
      "metadata": {
        "colab": {
          "base_uri": "https://localhost:8080/"
        },
        "id": "BPqGq7_LBM6r",
        "outputId": "bdcc11ca-5643-43a9-abb3-6d72adeca9a3"
      },
      "execution_count": 27,
      "outputs": [
        {
          "output_type": "stream",
          "name": "stdout",
          "text": [
            "Mean Absolute Percentage Error: 0.08367055121106538%\n"
          ]
        }
      ]
    }
  ]
}